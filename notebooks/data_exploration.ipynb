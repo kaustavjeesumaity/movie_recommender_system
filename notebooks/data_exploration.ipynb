{
 "cells": [
  {
   "cell_type": "markdown",
   "id": "fd4ac24d",
   "metadata": {},
   "source": [
    "# Download Files"
   ]
  },
  {
   "cell_type": "code",
   "execution_count": 2,
   "id": "f2e20653",
   "metadata": {},
   "outputs": [
    {
     "name": "stdout",
     "output_type": "stream",
     "text": [
      "Downloading dataset...\n"
     ]
    },
    {
     "name": "stderr",
     "output_type": "stream",
     "text": [
      "../data/ml-latest-small.zip: 100%|██████████| 955k/955k [00:02<00:00, 407kiB/s]  "
     ]
    },
    {
     "name": "stdout",
     "output_type": "stream",
     "text": [
      "Download complete!\n"
     ]
    },
    {
     "name": "stderr",
     "output_type": "stream",
     "text": [
      "\n"
     ]
    }
   ],
   "source": [
    "import requests\n",
    "import os\n",
    "from tqdm import tqdm\n",
    "\n",
    "def download_file(url, filename):\n",
    "    \"\"\"\n",
    "    Download a file from a URL with progress bar\n",
    "    \"\"\"\n",
    "    response = requests.get(url, stream=True)\n",
    "    total_size = int(response.headers.get('content-length', 0))\n",
    "    \n",
    "    with open(filename, 'wb') as f, tqdm(\n",
    "        desc=filename,\n",
    "        total=total_size,\n",
    "        unit='iB',\n",
    "        unit_scale=True,\n",
    "        unit_divisor=1024,\n",
    "    ) as bar:\n",
    "        for data in response.iter_content(chunk_size=1024):\n",
    "            size = f.write(data)\n",
    "            bar.update(size)\n",
    "\n",
    "# MovieLens dataset (100k is a good starting point)\n",
    "dataset_url = \"https://files.grouplens.org/datasets/movielens/ml-latest-small.zip\"\n",
    "dataset_path = \"../data/ml-latest-small.zip\"\n",
    "\n",
    "# Create data directory if it doesn't exist\n",
    "os.makedirs(\"../data\", exist_ok=True)\n",
    "\n",
    "# Download the dataset\n",
    "print(\"Downloading dataset...\")\n",
    "download_file(dataset_url, dataset_path)\n",
    "print(\"Download complete!\")"
   ]
  },
  {
   "cell_type": "markdown",
   "id": "10d6e236",
   "metadata": {},
   "source": [
    "# Unzip the Data"
   ]
  },
  {
   "cell_type": "code",
   "execution_count": 3,
   "id": "0e02afaa",
   "metadata": {},
   "outputs": [
    {
     "name": "stdout",
     "output_type": "stream",
     "text": [
      "Extracting dataset...\n",
      "Extraction complete!\n"
     ]
    }
   ],
   "source": [
    "## 2. Unzip the dataset\n",
    "import zipfile\n",
    "\n",
    "print(\"Extracting dataset...\")\n",
    "with zipfile.ZipFile(dataset_path, 'r') as zip_ref:\n",
    "    zip_ref.extractall(\"../data\")\n",
    "print(\"Extraction complete!\")"
   ]
  },
  {
   "cell_type": "markdown",
   "id": "8755358e",
   "metadata": {},
   "source": [
    "# Read the Data using Pandas"
   ]
  },
  {
   "cell_type": "code",
   "execution_count": 5,
   "id": "6699be6a",
   "metadata": {},
   "outputs": [],
   "source": [
    "## 3. Load data into pandas\n",
    "import pandas as pd\n",
    "\n",
    "# Load movies data\n",
    "movies = pd.read_csv(\"../data/ml-latest-small/movies.csv\")\n",
    "\n",
    "# Load ratings data\n",
    "ratings = pd.read_csv(\"../data/ml-latest-small/ratings.csv\")\n",
    "\n",
    "# Load tags data (if available)\n",
    "try:\n",
    "    tags = pd.read_csv(\"../data/ml-latest-small/tags.csv\")\n",
    "except FileNotFoundError:\n",
    "    print(\"\\nNo tags data found\")"
   ]
  },
  {
   "cell_type": "code",
   "execution_count": 6,
   "id": "516241f6",
   "metadata": {},
   "outputs": [
    {
     "name": "stdout",
     "output_type": "stream",
     "text": [
      "\n",
      "Basic Statistics:\n",
      "\n",
      "Movies stats:\n",
      "Total movies: 9742\n",
      "Genres: ['Adventure' 'Animation' 'Children' 'Comedy' 'Fantasy' 'Romance' 'Drama'\n",
      " 'Action' 'Crime' 'Thriller' 'Horror' 'Mystery' 'Sci-Fi' 'War' 'Musical'\n",
      " 'Documentary' 'IMAX' 'Western' 'Film-Noir' '(no genres listed)']\n",
      "\n",
      "Ratings stats:\n",
      "count    100836.000000\n",
      "mean          3.501557\n",
      "std           1.042529\n",
      "min           0.500000\n",
      "25%           3.000000\n",
      "50%           3.500000\n",
      "75%           4.000000\n",
      "max           5.000000\n",
      "Name: rating, dtype: float64\n",
      "\n",
      "Ratings per movie stats:\n",
      "count    9724.000000\n",
      "mean       10.369807\n",
      "std        22.401005\n",
      "min         1.000000\n",
      "25%         1.000000\n",
      "50%         3.000000\n",
      "75%         9.000000\n",
      "max       329.000000\n",
      "dtype: float64\n"
     ]
    }
   ],
   "source": [
    "## 4. Basic Data Analysis\n",
    "print(\"\\nBasic Statistics:\")\n",
    "\n",
    "# Movies stats\n",
    "print(\"\\nMovies stats:\")\n",
    "print(f\"Total movies: {len(movies)}\")\n",
    "print(f\"Genres: {movies['genres'].str.split('|').explode().unique()}\")\n",
    "\n",
    "# Ratings stats\n",
    "print(\"\\nRatings stats:\")\n",
    "print(ratings['rating'].describe())\n",
    "\n",
    "# Number of ratings per movie\n",
    "ratings_per_movie = ratings.groupby('movieId').size()\n",
    "print(\"\\nRatings per movie stats:\")\n",
    "print(ratings_per_movie.describe())"
   ]
  },
  {
   "cell_type": "code",
   "execution_count": 7,
   "id": "152a9b5b-6ab4-4800-b4dd-5325d760d741",
   "metadata": {},
   "outputs": [
    {
     "data": {
      "image/png": "[encoded data removed]",
      "text/plain": [
       "<Figure size 1000x600 with 1 Axes>"
      ]
     },
     "metadata": {},
     "output_type": "display_data"
    },
    {
     "name": "stdout",
     "output_type": "stream",
     "text": [
      "\n",
      "Top 10 movies with at least 10 ratings:\n",
      "                                         title            genres  avg_rating  \\\n",
      "movieId                                                                        \n",
      "1041                     Secrets & Lies (1996)             Drama    4.590909   \n",
      "3451       Guess Who's Coming to Dinner (1967)             Drama    4.545455   \n",
      "1178                     Paths of Glory (1957)         Drama|War    4.541667   \n",
      "1104          Streetcar Named Desire, A (1951)             Drama    4.475000   \n",
      "2360          Celebration, The (Festen) (1998)             Drama    4.458333   \n",
      "1217                                Ran (1985)         Drama|War    4.433333   \n",
      "318           Shawshank Redemption, The (1994)       Crime|Drama    4.429022   \n",
      "951                     His Girl Friday (1940)    Comedy|Romance    4.392857   \n",
      "1927     All Quiet on the Western Front (1930)  Action|Drama|War    4.350000   \n",
      "3468                       Hustler, The (1961)             Drama    4.333333   \n",
      "\n",
      "         num_ratings  \n",
      "movieId               \n",
      "1041              11  \n",
      "3451              11  \n",
      "1178              12  \n",
      "1104              20  \n",
      "2360              12  \n",
      "1217              15  \n",
      "318              317  \n",
      "951               14  \n",
      "1927              10  \n",
      "3468              18  \n"
     ]
    }
   ],
   "source": [
    "## 5. Visualizations\n",
    "import matplotlib.pyplot as plt\n",
    "import seaborn as sns\n",
    "\n",
    "# Rating distribution\n",
    "plt.figure(figsize=(10, 6))\n",
    "sns.countplot(x='rating', data=ratings)\n",
    "plt.title('Distribution of Ratings')\n",
    "plt.show()\n",
    "\n",
    "# Top rated movies (by average rating with minimum votes)\n",
    "min_votes = 10\n",
    "movie_stats = ratings.groupby('movieId').agg(\n",
    "    avg_rating=('rating', 'mean'),\n",
    "    num_ratings=('rating', 'count')\n",
    ").join(movies.set_index('movieId'))\n",
    "\n",
    "top_movies = movie_stats[movie_stats['num_ratings'] >= min_votes].sort_values('avg_rating', ascending=False)\n",
    "print(\"\\nTop 10 movies with at least 10 ratings:\")\n",
    "print(top_movies[['title', 'genres', 'avg_rating', 'num_ratings']].head(10))"
   ]
  }
 ],
 "metadata": {
  "kernelspec": {
   "display_name": "Python 3",
   "language": "python",
   "name": "python3"
  },
  "language_info": {
   "codemirror_mode": {
    "name": "ipython",
    "version": 3
   },
   "file_extension": ".py",
   "mimetype": "text/x-python",
   "name": "python",
   "nbconvert_exporter": "python",
   "pygments_lexer": "ipython3",
   "version": "3.12.3"
  }
 },
 "nbformat": 4,
 "nbformat_minor": 5
}
